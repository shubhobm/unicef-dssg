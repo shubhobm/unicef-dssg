{
 "cells": [
  {
   "cell_type": "code",
   "execution_count": 6,
   "metadata": {
    "scrolled": true
   },
   "outputs": [
    {
     "name": "stdout",
     "output_type": "stream",
     "text": [
      "Requirement already up-to-date: earthengine-api in /Users/skwire/.local/share/virtualenvs/unicef-dssg-JbUZMzQi/lib/python3.7/site-packages (0.1.232)\n",
      "Requirement already satisfied, skipping upgrade: google-auth>=1.4.1 in /Users/skwire/.local/share/virtualenvs/unicef-dssg-JbUZMzQi/lib/python3.7/site-packages (from earthengine-api) (1.20.1)\n",
      "Requirement already satisfied, skipping upgrade: httplib2<1dev,>=0.9.2 in /Users/skwire/.local/share/virtualenvs/unicef-dssg-JbUZMzQi/lib/python3.7/site-packages (from earthengine-api) (0.18.1)\n",
      "Requirement already satisfied, skipping upgrade: google-auth-httplib2>=0.0.3 in /Users/skwire/.local/share/virtualenvs/unicef-dssg-JbUZMzQi/lib/python3.7/site-packages (from earthengine-api) (0.0.4)\n",
      "Requirement already satisfied, skipping upgrade: httplib2shim in /Users/skwire/.local/share/virtualenvs/unicef-dssg-JbUZMzQi/lib/python3.7/site-packages (from earthengine-api) (0.0.3)\n",
      "Requirement already satisfied, skipping upgrade: google-api-python-client in /Users/skwire/.local/share/virtualenvs/unicef-dssg-JbUZMzQi/lib/python3.7/site-packages (from earthengine-api) (1.10.0)\n",
      "Requirement already satisfied, skipping upgrade: google-cloud-storage in /Users/skwire/.local/share/virtualenvs/unicef-dssg-JbUZMzQi/lib/python3.7/site-packages (from earthengine-api) (1.30.0)\n",
      "Requirement already satisfied, skipping upgrade: future in /Users/skwire/.local/share/virtualenvs/unicef-dssg-JbUZMzQi/lib/python3.7/site-packages (from earthengine-api) (0.18.2)\n",
      "Requirement already satisfied, skipping upgrade: six in /Users/skwire/.local/share/virtualenvs/unicef-dssg-JbUZMzQi/lib/python3.7/site-packages (from earthengine-api) (1.15.0)\n",
      "Requirement already satisfied, skipping upgrade: setuptools>=40.3.0 in /Users/skwire/.local/share/virtualenvs/unicef-dssg-JbUZMzQi/lib/python3.7/site-packages (from google-auth>=1.4.1->earthengine-api) (49.6.0)\n",
      "Requirement already satisfied, skipping upgrade: pyasn1-modules>=0.2.1 in /Users/skwire/.local/share/virtualenvs/unicef-dssg-JbUZMzQi/lib/python3.7/site-packages (from google-auth>=1.4.1->earthengine-api) (0.2.8)\n",
      "Requirement already satisfied, skipping upgrade: cachetools<5.0,>=2.0.0 in /Users/skwire/.local/share/virtualenvs/unicef-dssg-JbUZMzQi/lib/python3.7/site-packages (from google-auth>=1.4.1->earthengine-api) (4.1.1)\n",
      "Requirement already satisfied, skipping upgrade: rsa<5,>=3.1.4; python_version >= \"3.5\" in /Users/skwire/.local/share/virtualenvs/unicef-dssg-JbUZMzQi/lib/python3.7/site-packages (from google-auth>=1.4.1->earthengine-api) (4.6)\n",
      "Requirement already satisfied, skipping upgrade: certifi in /Users/skwire/.local/share/virtualenvs/unicef-dssg-JbUZMzQi/lib/python3.7/site-packages (from httplib2shim->earthengine-api) (2020.6.20)\n",
      "Requirement already satisfied, skipping upgrade: urllib3 in /Users/skwire/.local/share/virtualenvs/unicef-dssg-JbUZMzQi/lib/python3.7/site-packages (from httplib2shim->earthengine-api) (1.25.10)\n",
      "Requirement already satisfied, skipping upgrade: uritemplate<4dev,>=3.0.0 in /Users/skwire/.local/share/virtualenvs/unicef-dssg-JbUZMzQi/lib/python3.7/site-packages (from google-api-python-client->earthengine-api) (3.0.1)\n",
      "Requirement already satisfied, skipping upgrade: google-api-core<2dev,>=1.18.0 in /Users/skwire/.local/share/virtualenvs/unicef-dssg-JbUZMzQi/lib/python3.7/site-packages (from google-api-python-client->earthengine-api) (1.22.1)\n",
      "Requirement already satisfied, skipping upgrade: google-cloud-core<2.0dev,>=1.2.0 in /Users/skwire/.local/share/virtualenvs/unicef-dssg-JbUZMzQi/lib/python3.7/site-packages (from google-cloud-storage->earthengine-api) (1.4.1)\n",
      "Requirement already satisfied, skipping upgrade: google-resumable-media<2.0dev,>=0.6.0 in /Users/skwire/.local/share/virtualenvs/unicef-dssg-JbUZMzQi/lib/python3.7/site-packages (from google-cloud-storage->earthengine-api) (0.7.1)\n",
      "Requirement already satisfied, skipping upgrade: pyasn1<0.5.0,>=0.4.6 in /Users/skwire/.local/share/virtualenvs/unicef-dssg-JbUZMzQi/lib/python3.7/site-packages (from pyasn1-modules>=0.2.1->google-auth>=1.4.1->earthengine-api) (0.4.8)\n",
      "Requirement already satisfied, skipping upgrade: requests<3.0.0dev,>=2.18.0 in /Users/skwire/.local/share/virtualenvs/unicef-dssg-JbUZMzQi/lib/python3.7/site-packages (from google-api-core<2dev,>=1.18.0->google-api-python-client->earthengine-api) (2.24.0)\n",
      "Requirement already satisfied, skipping upgrade: googleapis-common-protos<2.0dev,>=1.6.0 in /Users/skwire/.local/share/virtualenvs/unicef-dssg-JbUZMzQi/lib/python3.7/site-packages (from google-api-core<2dev,>=1.18.0->google-api-python-client->earthengine-api) (1.52.0)\n",
      "Requirement already satisfied, skipping upgrade: pytz in /Users/skwire/.local/share/virtualenvs/unicef-dssg-JbUZMzQi/lib/python3.7/site-packages (from google-api-core<2dev,>=1.18.0->google-api-python-client->earthengine-api) (2020.1)\n",
      "Requirement already satisfied, skipping upgrade: protobuf>=3.12.0 in /Users/skwire/.local/share/virtualenvs/unicef-dssg-JbUZMzQi/lib/python3.7/site-packages (from google-api-core<2dev,>=1.18.0->google-api-python-client->earthengine-api) (4.0.0rc2)\n",
      "Requirement already satisfied, skipping upgrade: google-crc32c<0.2dev,>=0.1.0; python_version >= \"3.5\" in /Users/skwire/.local/share/virtualenvs/unicef-dssg-JbUZMzQi/lib/python3.7/site-packages (from google-resumable-media<2.0dev,>=0.6.0->google-cloud-storage->earthengine-api) (0.1.0)\n",
      "Requirement already satisfied, skipping upgrade: chardet<4,>=3.0.2 in /Users/skwire/.local/share/virtualenvs/unicef-dssg-JbUZMzQi/lib/python3.7/site-packages (from requests<3.0.0dev,>=2.18.0->google-api-core<2dev,>=1.18.0->google-api-python-client->earthengine-api) (3.0.4)\n",
      "Requirement already satisfied, skipping upgrade: idna<3,>=2.5 in /Users/skwire/.local/share/virtualenvs/unicef-dssg-JbUZMzQi/lib/python3.7/site-packages (from requests<3.0.0dev,>=2.18.0->google-api-core<2dev,>=1.18.0->google-api-python-client->earthengine-api) (2.10)\n",
      "Requirement already satisfied, skipping upgrade: cffi>=1.0.0 in /Users/skwire/.local/share/virtualenvs/unicef-dssg-JbUZMzQi/lib/python3.7/site-packages (from google-crc32c<0.2dev,>=0.1.0; python_version >= \"3.5\"->google-resumable-media<2.0dev,>=0.6.0->google-cloud-storage->earthengine-api) (1.14.2)\n",
      "Requirement already satisfied, skipping upgrade: pycparser in /Users/skwire/.local/share/virtualenvs/unicef-dssg-JbUZMzQi/lib/python3.7/site-packages (from cffi>=1.0.0->google-crc32c<0.2dev,>=0.1.0; python_version >= \"3.5\"->google-resumable-media<2.0dev,>=0.6.0->google-cloud-storage->earthengine-api) (2.20)\n"
     ]
    }
   ],
   "source": [
    "!pip install earthengine-api --upgrade\n"
   ]
  },
  {
   "cell_type": "code",
   "execution_count": 7,
   "metadata": {},
   "outputs": [
    {
     "ename": "ModuleNotFoundError",
     "evalue": "No module named 'StringIO'",
     "output_type": "error",
     "traceback": [
      "\u001b[0;31m---------------------------------------------------------------------------\u001b[0m",
      "\u001b[0;31mModuleNotFoundError\u001b[0m                       Traceback (most recent call last)",
      "\u001b[0;32m<ipython-input-7-614297048375>\u001b[0m in \u001b[0;36m<module>\u001b[0;34m\u001b[0m\n\u001b[1;32m      2\u001b[0m \u001b[0;32mfrom\u001b[0m \u001b[0mio\u001b[0m \u001b[0;32mimport\u001b[0m \u001b[0mStringIO\u001b[0m\u001b[0;34m\u001b[0m\u001b[0;34m\u001b[0m\u001b[0m\n\u001b[1;32m      3\u001b[0m \u001b[0;34m\u001b[0m\u001b[0m\n\u001b[0;32m----> 4\u001b[0;31m \u001b[0;32mimport\u001b[0m \u001b[0mee\u001b[0m\u001b[0;34m\u001b[0m\u001b[0;34m\u001b[0m\u001b[0m\n\u001b[0m\u001b[1;32m      5\u001b[0m \u001b[0;34m\u001b[0m\u001b[0m\n\u001b[1;32m      6\u001b[0m \u001b[0mee\u001b[0m\u001b[0;34m.\u001b[0m\u001b[0mInitialize\u001b[0m\u001b[0;34m(\u001b[0m\u001b[0;34m)\u001b[0m\u001b[0;34m\u001b[0m\u001b[0;34m\u001b[0m\u001b[0m\n",
      "\u001b[0;32m~/opt/anaconda3/lib/python3.7/site-packages/ee/__init__.py\u001b[0m in \u001b[0;36m<module>\u001b[0;34m\u001b[0m\n\u001b[0;32m----> 1\u001b[0;31m \u001b[0;32mfrom\u001b[0m \u001b[0;34m.\u001b[0m\u001b[0mmain\u001b[0m \u001b[0;32mimport\u001b[0m \u001b[0mmain\u001b[0m\u001b[0;34m\u001b[0m\u001b[0;34m\u001b[0m\u001b[0m\n\u001b[0m",
      "\u001b[0;32m~/opt/anaconda3/lib/python3.7/site-packages/ee/main.py\u001b[0m in \u001b[0;36m<module>\u001b[0;34m\u001b[0m\n\u001b[1;32m      8\u001b[0m \u001b[0;32mimport\u001b[0m \u001b[0mstat\u001b[0m\u001b[0;34m\u001b[0m\u001b[0;34m\u001b[0m\u001b[0m\n\u001b[1;32m      9\u001b[0m \u001b[0;32mimport\u001b[0m \u001b[0mplistlib\u001b[0m\u001b[0;34m\u001b[0m\u001b[0;34m\u001b[0m\u001b[0m\n\u001b[0;32m---> 10\u001b[0;31m \u001b[0;32mimport\u001b[0m \u001b[0mStringIO\u001b[0m\u001b[0;34m\u001b[0m\u001b[0;34m\u001b[0m\u001b[0m\n\u001b[0m\u001b[1;32m     11\u001b[0m \u001b[0;32mimport\u001b[0m \u001b[0mplatform\u001b[0m\u001b[0;34m\u001b[0m\u001b[0;34m\u001b[0m\u001b[0m\n\u001b[1;32m     12\u001b[0m \u001b[0;32mimport\u001b[0m \u001b[0mtime\u001b[0m\u001b[0;34m\u001b[0m\u001b[0;34m\u001b[0m\u001b[0m\n",
      "\u001b[0;31mModuleNotFoundError\u001b[0m: No module named 'StringIO'"
     ]
    }
   ],
   "source": [
    "import datetime\n",
    "from io import StringIO\n",
    "\n",
    "import ee\n",
    "\n",
    "ee.Initialize()"
   ]
  },
  {
   "cell_type": "code",
   "execution_count": 25,
   "metadata": {},
   "outputs": [],
   "source": [
    "minx = -180\n",
    "maxy = 90\n",
    "maxx = 180\n",
    "miny = -90\n",
    "\n",
    "year=2019\n",
    "mon_start=5\n",
    "date_start=13\n",
    "mon_end=12\n",
    "date_end=31\n"
   ]
  },
  {
   "cell_type": "code",
   "execution_count": 26,
   "metadata": {},
   "outputs": [],
   "source": [
    "def start_process(dates):\n",
    "    for i in range(len(dates)-1):\n",
    "        s_date=dates[i]\n",
    "        e_date=dates[i+1]\n",
    "        area = ee.Geometry.Rectangle([minx, maxy, maxx, miny])\n",
    "        collection = ee.ImageCollection('COPERNICUS/S5P/NRTI/L3_NO2').select('NO2_column_number_density').filterDate(s_date, e_date);\n",
    "    \n",
    "        img=collection.mean()\n",
    "\n",
    "        down_args = {\n",
    "        'image': img,\n",
    "        'folder': 'work_2020/air_pollution',\n",
    "        'description': 'sentinel5_'+'NO2_column_number_density'+'_'+s_date+'_'+e_date,\n",
    "        'scale': 7000\n",
    "        }\n",
    "        task = ee.batch.Export.image.toDrive(**down_args)\n",
    "        task.start()"
   ]
  },
  {
   "cell_type": "code",
   "execution_count": 27,
   "metadata": {},
   "outputs": [],
   "source": [
    "def date_range(start, end):\n",
    "    r = (end+datetime.timedelta(days=1)-start).days\n",
    "    #print(r)\n",
    "    return [start+datetime.timedelta(days=i) for i in range(0,r,7)]\n"
   ]
  },
  {
   "cell_type": "code",
   "execution_count": 28,
   "metadata": {},
   "outputs": [],
   "source": [
    "start = datetime.date(year,mon_start,date_start)\n",
    "end = datetime.date(year,mon_end,date_end)\n",
    "dateList = date_range(start, end)\n",
    "dates=[str(date) for date in dateList]"
   ]
  },
  {
   "cell_type": "code",
   "execution_count": 29,
   "metadata": {},
   "outputs": [],
   "source": [
    "start_process(dates)"
   ]
  },
  {
   "cell_type": "code",
   "execution_count": null,
   "metadata": {},
   "outputs": [],
   "source": []
  }
 ],
 "metadata": {
  "kernelspec": {
   "display_name": "Python 3",
   "language": "python",
   "name": "python3"
  },
  "language_info": {
   "codemirror_mode": {
    "name": "ipython",
    "version": 3
   },
   "file_extension": ".py",
   "mimetype": "text/x-python",
   "name": "python",
   "nbconvert_exporter": "python",
   "pygments_lexer": "ipython3",
   "version": "3.7.6"
  }
 },
 "nbformat": 4,
 "nbformat_minor": 4
}
